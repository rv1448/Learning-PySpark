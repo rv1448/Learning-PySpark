{
 "cells": [
  {
   "cell_type": "code",
   "execution_count": 2,
   "metadata": {
    "collapsed": true
   },
   "outputs": [],
   "source": [
    "sample_data = sc.parallelize([\n",
    "      (1, 'MacBook Pro', 2015, '15\"', '16GB', '512GB SSD'\n",
    "        , 13.75, 9.48, 0.61, 4.02)\n",
    "    , (2, 'MacBook', 2016, '12\"', '8GB', '256GB SSD'\n",
    "        , 11.04, 7.74, 0.52, 2.03)\n",
    "    , (3, 'MacBook Air', 2016, '13.3\"', '8GB', '128GB SSD'\n",
    "        , 12.8, 8.94, 0.68, 2.96)\n",
    "    , (4, 'iMac', 2017, '27\"', '64GB', '1TB SSD'\n",
    "        , 25.6, 8.0, 20.3, 20.8)\n",
    "])"
   ]
  },
  {
   "cell_type": "code",
   "execution_count": 3,
   "metadata": {
    "collapsed": true
   },
   "outputs": [],
   "source": [
    "sample_data_df = spark.createDataFrame(sample_data,[\n",
    "        'Id'\n",
    "        , 'Model'\n",
    "        , 'Year'\n",
    "        , 'ScreenSize'\n",
    "        , 'RAM'\n",
    "        , 'HDD'\n",
    "        , 'W'\n",
    "        , 'D'\n",
    "        , 'H'\n",
    "        , 'Weight'\n",
    "    ])"
   ]
  },
  {
   "cell_type": "code",
   "execution_count": 5,
   "metadata": {
    "collapsed": false
   },
   "outputs": [
    {
     "name": "stdout",
     "output_type": "stream",
     "text": [
      "+---+-----------+----+----------+----+---------+-----+----+----+------+\n",
      "| Id|      Model|Year|ScreenSize| RAM|      HDD|    W|   D|   H|Weight|\n",
      "+---+-----------+----+----------+----+---------+-----+----+----+------+\n",
      "|  1|MacBook Pro|2015|       15\"|16GB|512GB SSD|13.75|9.48|0.61|  4.02|\n",
      "|  2|    MacBook|2016|       12\"| 8GB|256GB SSD|11.04|7.74|0.52|  2.03|\n",
      "|  3|MacBook Air|2016|     13.3\"| 8GB|128GB SSD| 12.8|8.94|0.68|  2.96|\n",
      "|  4|       iMac|2017|       27\"|64GB|  1TB SSD| 25.6| 8.0|20.3|  20.8|\n",
      "+---+-----------+----+----------+----+---------+-----+----+----+------+\n",
      "\n"
     ]
    }
   ],
   "source": [
    "sample_data_df.show(10)"
   ]
  },
  {
   "cell_type": "code",
   "execution_count": 6,
   "metadata": {
    "collapsed": false
   },
   "outputs": [
    {
     "name": "stdout",
     "output_type": "stream",
     "text": [
      "root\n",
      " |-- Id: long (nullable = true)\n",
      " |-- Model: string (nullable = true)\n",
      " |-- Year: long (nullable = true)\n",
      " |-- ScreenSize: string (nullable = true)\n",
      " |-- RAM: string (nullable = true)\n",
      " |-- HDD: string (nullable = true)\n",
      " |-- W: double (nullable = true)\n",
      " |-- D: double (nullable = true)\n",
      " |-- H: double (nullable = true)\n",
      " |-- Weight: double (nullable = true)\n",
      "\n"
     ]
    }
   ],
   "source": [
    "sample_data_df.printSchema()"
   ]
  },
  {
   "cell_type": "code",
   "execution_count": 7,
   "metadata": {
    "collapsed": false
   },
   "outputs": [
    {
     "data": {
      "text/plain": [
       "[Row(Id=1, Model=u'MacBook Pro', Year=2015, ScreenSize=u'15\"', RAM=u'16GB', HDD=u'512GB SSD', W=13.75, D=9.48, H=0.61, Weight=4.02)]"
      ]
     },
     "execution_count": 7,
     "metadata": {},
     "output_type": "execute_result"
    }
   ],
   "source": [
    "sample_data_df.take(1)"
   ]
  },
  {
   "cell_type": "code",
   "execution_count": 25,
   "metadata": {
    "collapsed": false
   },
   "outputs": [
    {
     "ename": "SyntaxError",
     "evalue": "invalid syntax (<ipython-input-25-2f51c4013b4e>, line 9)",
     "output_type": "error",
     "traceback": [
      "\u001b[0;36m  File \u001b[0;32m\"<ipython-input-25-2f51c4013b4e>\"\u001b[0;36m, line \u001b[0;32m9\u001b[0m\n\u001b[0;31m    ,HDD_size=row.HDD.split(' ')[0]\u001b[0m\n\u001b[0m    ^\u001b[0m\n\u001b[0;31mSyntaxError\u001b[0m\u001b[0;31m:\u001b[0m invalid syntax\n"
     ]
    }
   ],
   "source": [
    "import pyspark.sql as sql\n",
    "import pyspark.sql.functions as f\n",
    "\n",
    "sample_data_transformed = (\n",
    "    sample_data_df\n",
    "    .rdd #Each element of the RDD inside the data frame is a ROW( ) object \n",
    "    .map(lambda row: sql.Row(\n",
    "        **row.asDict() \n",
    "        ,HDD_size=row.HDD.split(' ')[0]\n",
    "        )\n",
    "    )\n",
    "    .map(lambda row: sql.Row(\n",
    "        **row.asDict()\n",
    "        , HDD_type=row.HDD.split(' ')[1]\n",
    "        )\n",
    "    )\n",
    "    .map(lambda row: sql.Row(\n",
    "        **row.asDict()\n",
    "        , Volume=row.H * row.D * row.W\n",
    "        )\n",
    "    )\n",
    "    .toDF()\n",
    "    .select(\n",
    "        sample_data_df.columns + \n",
    "        [\n",
    "              'HDD_size'\n",
    "            , 'HDD_type'\n",
    "            , f.round(\n",
    "                f.col('Volume')\n",
    "            ).alias('Volume_cuIn')\n",
    "        ]\n",
    "    )\n",
    ")"
   ]
  },
  {
   "cell_type": "code",
   "execution_count": 14,
   "metadata": {
    "collapsed": false
   },
   "outputs": [
    {
     "name": "stdout",
     "output_type": "stream",
     "text": [
      "+---+-----------+----+----------+----+---------+-----+----+----+------+\n",
      "| Id|      Model|Year|ScreenSize| RAM|      HDD|    W|   D|   H|Weight|\n",
      "+---+-----------+----+----------+----+---------+-----+----+----+------+\n",
      "|  1|MacBook Pro|2015|       15\"|16GB|512GB SSD|13.75|9.48|0.61|  4.02|\n",
      "+---+-----------+----+----------+----+---------+-----+----+----+------+\n",
      "only showing top 1 row\n",
      "\n"
     ]
    }
   ],
   "source": [
    "sample_data_df .show(1)"
   ]
  },
  {
   "cell_type": "code",
   "execution_count": 17,
   "metadata": {
    "collapsed": false
   },
   "outputs": [
    {
     "data": {
      "text/plain": [
       "[Row(Id=1, Model=u'MacBook Pro', Year=2015, ScreenSize=u'15\"', RAM=u'16GB', HDD=u'512GB SSD', W=13.75, D=9.48, H=0.61, Weight=4.02)]"
      ]
     },
     "execution_count": 17,
     "metadata": {},
     "output_type": "execute_result"
    }
   ],
   "source": [
    "sample_data_df.rdd.take(1) #map(lambda row : row[1]).take(1)"
   ]
  },
  {
   "cell_type": "code",
   "execution_count": 20,
   "metadata": {
    "collapsed": false
   },
   "outputs": [
    {
     "data": {
      "text/plain": [
       "[(1, 'MacBook Pro', 2015, '15\"', '16GB', '512GB SSD', 13.75, 9.48, 0.61, 4.02),\n",
       " (2, 'MacBook', 2016, '12\"', '8GB', '256GB SSD', 11.04, 7.74, 0.52, 2.03)]"
      ]
     },
     "execution_count": 20,
     "metadata": {},
     "output_type": "execute_result"
    }
   ],
   "source": [
    "sample_data.take(2)"
   ]
  },
  {
   "cell_type": "code",
   "execution_count": 21,
   "metadata": {
    "collapsed": false
   },
   "outputs": [
    {
     "ename": "NameError",
     "evalue": "name 'sample_data_transformed' is not defined",
     "output_type": "error",
     "traceback": [
      "\u001b[0;31m---------------------------------------------------------------------------\u001b[0m",
      "\u001b[0;31mNameError\u001b[0m                                 Traceback (most recent call last)",
      "\u001b[0;32m<ipython-input-21-84c0c7687bbe>\u001b[0m in \u001b[0;36m<module>\u001b[0;34m()\u001b[0m\n\u001b[0;32m----> 1\u001b[0;31m \u001b[0msample_data_transformed\u001b[0m\u001b[0;34m.\u001b[0m\u001b[0mrdd\u001b[0m\u001b[0;34m.\u001b[0m\u001b[0mtake\u001b[0m\u001b[0;34m(\u001b[0m\u001b[0;36m1\u001b[0m\u001b[0;34m)\u001b[0m\u001b[0;34m\u001b[0m\u001b[0m\n\u001b[0m",
      "\u001b[0;31mNameError\u001b[0m: name 'sample_data_transformed' is not defined"
     ]
    }
   ],
   "source": [
    "sample_data_transformed.rdd.take(1)"
   ]
  },
  {
   "cell_type": "code",
   "execution_count": 27,
   "metadata": {
    "collapsed": false
   },
   "outputs": [
    {
     "ename": "AttributeError",
     "evalue": "'RDD' object has no attribute 'asDict'",
     "output_type": "error",
     "traceback": [
      "\u001b[0;31m---------------------------------------------------------------------------\u001b[0m",
      "\u001b[0;31mAttributeError\u001b[0m                            Traceback (most recent call last)",
      "\u001b[0;32m<ipython-input-27-4285619f91cd>\u001b[0m in \u001b[0;36m<module>\u001b[0;34m()\u001b[0m\n\u001b[0;32m----> 1\u001b[0;31m \u001b[0msample_data_df\u001b[0m\u001b[0;34m.\u001b[0m\u001b[0mrdd\u001b[0m\u001b[0;34m.\u001b[0m\u001b[0masDict\u001b[0m\u001b[0;34m(\u001b[0m\u001b[0;34m)\u001b[0m\u001b[0;34m\u001b[0m\u001b[0m\n\u001b[0m",
      "\u001b[0;31mAttributeError\u001b[0m: 'RDD' object has no attribute 'asDict'"
     ]
    }
   ],
   "source": [
    "sample_data_df.rdd.asDict() "
   ]
  },
  {
   "cell_type": "code",
   "execution_count": 2,
   "metadata": {
    "collapsed": false
   },
   "outputs": [],
   "source": [
    "from pyspark.sql import SparkSession\n",
    "spark = SparkSession.builder.appName(\"create\").getOrCreate()"
   ]
  },
  {
   "cell_type": "code",
   "execution_count": 26,
   "metadata": {
    "collapsed": true
   },
   "outputs": [],
   "source": [
    "df = spark.createDataFrame([(0,'a'),(0,'b'),(0,'v'),(0,'j')],['id','letter'])"
   ]
  },
  {
   "cell_type": "code",
   "execution_count": 33,
   "metadata": {
    "collapsed": false
   },
   "outputs": [
    {
     "name": "stdout",
     "output_type": "stream",
     "text": [
      "+---+------+\n",
      "| id|letter|\n",
      "+---+------+\n",
      "|  0|     a|\n",
      "+---+------+\n",
      "only showing top 1 row\n",
      "\n"
     ]
    }
   ],
   "source": [
    "df.show(1)"
   ]
  },
  {
   "cell_type": "code",
   "execution_count": 34,
   "metadata": {
    "collapsed": false
   },
   "outputs": [
    {
     "data": {
      "text/plain": [
       "[Row(id=0, letter=u'a')]"
      ]
     },
     "execution_count": 34,
     "metadata": {},
     "output_type": "execute_result"
    }
   ],
   "source": [
    "df.take(1)   # press Shift tab to get the options for the Data Frame"
   ]
  },
  {
   "cell_type": "code",
   "execution_count": 35,
   "metadata": {
    "collapsed": false
   },
   "outputs": [
    {
     "name": "stdout",
     "output_type": "stream",
     "text": [
      "+---+------+------+\n",
      "| id|letter|newage|\n",
      "+---+------+------+\n",
      "|  0|     a|     0|\n",
      "|  0|     b|     0|\n",
      "|  0|     v|     0|\n",
      "|  0|     j|     0|\n",
      "+---+------+------+\n",
      "\n"
     ]
    }
   ],
   "source": [
    "df.withColumn('newage',df['id']).show()"
   ]
  },
  {
   "cell_type": "code",
   "execution_count": 1,
   "metadata": {
    "collapsed": true
   },
   "outputs": [],
   "source": [
    "from pyspark.sql import SparkSession"
   ]
  },
  {
   "cell_type": "code",
   "execution_count": 1,
   "metadata": {
    "collapsed": true
   },
   "outputs": [],
   "source": [
    "sc1 = SparkSession.builder.appName(\"Data_Frames\").getOrCreate()"
   ]
  },
  {
   "cell_type": "code",
   "execution_count": 18,
   "metadata": {
    "collapsed": false
   },
   "outputs": [],
   "source": [
    "df = sc1.createDataFrame([(0,'a'),(1,'b'),(2,'c')],['id','letter'])"
   ]
  },
  {
   "cell_type": "code",
   "execution_count": 8,
   "metadata": {
    "collapsed": false
   },
   "outputs": [
    {
     "name": "stdout",
     "output_type": "stream",
     "text": [
      "+---+------+\n",
      "| id|letter|\n",
      "+---+------+\n",
      "|  0|     a|\n",
      "|  1|     b|\n",
      "|  2|     c|\n",
      "+---+------+\n",
      "\n"
     ]
    }
   ],
   "source": [
    "df.show()"
   ]
  },
  {
   "cell_type": "code",
   "execution_count": 9,
   "metadata": {
    "collapsed": false
   },
   "outputs": [
    {
     "data": {
      "text/plain": [
       "u'/Users/RahulReddy/Desktop/pyspark'"
      ]
     },
     "execution_count": 9,
     "metadata": {},
     "output_type": "execute_result"
    }
   ],
   "source": [
    "%pwd"
   ]
  },
  {
   "cell_type": "code",
   "execution_count": 44,
   "metadata": {
    "collapsed": false
   },
   "outputs": [],
   "source": [
    "##df_json = sc1.read.json('/Users/RahulReddy/Desktop/pyspark/user.json',multiLine=True).printSchema()\n",
    "df_json = spark.read.option(\"multiline\",True).option(\"mode\",\"PERMISSIVE\")\\\n",
    ".json('/Users/RahulReddy/Desktop/pyspark/reviews_Patio_Lawn_and_Garden_5.json')\n"
   ]
  },
  {
   "cell_type": "code",
   "execution_count": 49,
   "metadata": {
    "collapsed": false
   },
   "outputs": [
    {
     "name": "stdout",
     "output_type": "stream",
     "text": [
      "root\n",
      " |-- asin: string (nullable = true)\n",
      " |-- helpful: array (nullable = true)\n",
      " |    |-- element: long (containsNull = true)\n",
      " |-- overall: double (nullable = true)\n",
      " |-- reviewText: string (nullable = true)\n",
      " |-- reviewTime: string (nullable = true)\n",
      " |-- reviewerID: string (nullable = true)\n",
      " |-- reviewerName: string (nullable = true)\n",
      " |-- summary: string (nullable = true)\n",
      " |-- unixReviewTime: long (nullable = true)\n",
      "\n"
     ]
    }
   ],
   "source": [
    " df_json.printSchema()"
   ]
  },
  {
   "cell_type": "code",
   "execution_count": 56,
   "metadata": {
    "collapsed": false
   },
   "outputs": [],
   "source": [
    "df_json.createOrReplaceTempView(\"test\")"
   ]
  },
  {
   "cell_type": "code",
   "execution_count": 59,
   "metadata": {
    "collapsed": false
   },
   "outputs": [
    {
     "name": "stdout",
     "output_type": "stream",
     "text": [
      "+----------+-------+-------+--------------------+-----------+--------------+--------------------+-----------+--------------+\n",
      "|      asin|helpful|overall|          reviewText| reviewTime|    reviewerID|        reviewerName|    summary|unixReviewTime|\n",
      "+----------+-------+-------+--------------------+-----------+--------------+--------------------+-----------+--------------+\n",
      "|B00002N674| [4, 4]|    4.0|Good USA company ...|06 21, 2011|A1JZFGZEZVWQPY|Carter H \"1amazon...|Great Hoses|    1308614400|\n",
      "+----------+-------+-------+--------------------+-----------+--------------+--------------------+-----------+--------------+\n",
      "\n"
     ]
    }
   ],
   "source": [
    "spark.sql(\"select * from test\").show(12)"
   ]
  },
  {
   "cell_type": "code",
   "execution_count": 61,
   "metadata": {
    "collapsed": false
   },
   "outputs": [
    {
     "data": {
      "text/plain": [
       "DataFrame[reviewText: string]"
      ]
     },
     "execution_count": 61,
     "metadata": {},
     "output_type": "execute_result"
    }
   ],
   "source": [
    "spark.sql(\"select reviewText from test\")"
   ]
  },
  {
   "cell_type": "code",
   "execution_count": 62,
   "metadata": {
    "collapsed": false
   },
   "outputs": [
    {
     "data": {
      "text/plain": [
       "['asin',\n",
       " 'helpful',\n",
       " 'overall',\n",
       " 'reviewText',\n",
       " 'reviewTime',\n",
       " 'reviewerID',\n",
       " 'reviewerName',\n",
       " 'summary',\n",
       " 'unixReviewTime']"
      ]
     },
     "execution_count": 62,
     "metadata": {},
     "output_type": "execute_result"
    }
   ],
   "source": [
    "df_json.columns"
   ]
  },
  {
   "cell_type": "code",
   "execution_count": 64,
   "metadata": {
    "collapsed": false
   },
   "outputs": [
    {
     "name": "stdout",
     "output_type": "stream",
     "text": [
      "+-------+----------+-------+--------------------+-----------+--------------+--------------------+-----------+--------------+\n",
      "|summary|      asin|overall|          reviewText| reviewTime|    reviewerID|        reviewerName|    summary|unixReviewTime|\n",
      "+-------+----------+-------+--------------------+-----------+--------------+--------------------+-----------+--------------+\n",
      "|  count|         1|      1|                   1|          1|             1|                   1|          1|             1|\n",
      "|   mean|      null|    4.0|                null|       null|          null|                null|       null|   1.3086144E9|\n",
      "| stddev|      null|    NaN|                null|       null|          null|                null|       null|           NaN|\n",
      "|    min|B00002N674|    4.0|Good USA company ...|06 21, 2011|A1JZFGZEZVWQPY|Carter H \"1amazon...|Great Hoses|    1308614400|\n",
      "|    max|B00002N674|    4.0|Good USA company ...|06 21, 2011|A1JZFGZEZVWQPY|Carter H \"1amazon...|Great Hoses|    1308614400|\n",
      "+-------+----------+-------+--------------------+-----------+--------------+--------------------+-----------+--------------+\n",
      "\n"
     ]
    }
   ],
   "source": [
    "df_json.describe().show()"
   ]
  },
  {
   "cell_type": "code",
   "execution_count": 66,
   "metadata": {
    "collapsed": false
   },
   "outputs": [
    {
     "name": "stdout",
     "output_type": "stream",
     "text": [
      "+--------------------+\n",
      "|        reviewerName|\n",
      "+--------------------+\n",
      "|Carter H \"1amazon...|\n",
      "+--------------------+\n",
      "\n"
     ]
    }
   ],
   "source": [
    "df_json.select('reviewerName').show()"
   ]
  },
  {
   "cell_type": "code",
   "execution_count": 68,
   "metadata": {
    "collapsed": false
   },
   "outputs": [
    {
     "data": {
      "text/plain": [
       "[Row(asin=u'B00002N674', helpful=[4, 4], overall=4.0, reviewText=u'Good USA company that stands behind their products. I have had to warranty two hoses and they send replacements right out to you. I had one burst after awhile, you could see it buldge for weeks before it went so no suprises. The other one was winter related as I am bad and leave them out most of the time. Highly reccomend. Note the hundred footer is heavy and like wresting an anaconda when its time to put away, but it does have a far reach.', reviewTime=u'06 21, 2011', reviewerID=u'A1JZFGZEZVWQPY', reviewerName=u'Carter H \"1amazonreviewer@gmail . com\"', summary=u'Great Hoses', unixReviewTime=1308614400)]"
      ]
     },
     "execution_count": 68,
     "metadata": {},
     "output_type": "execute_result"
    }
   ],
   "source": [
    "df_json.head(5)"
   ]
  },
  {
   "cell_type": "code",
   "execution_count": 69,
   "metadata": {
    "collapsed": true
   },
   "outputs": [],
   "source": [
    "df_1 = df_json.select('overall')"
   ]
  },
  {
   "cell_type": "code",
   "execution_count": 73,
   "metadata": {
    "collapsed": false
   },
   "outputs": [],
   "source": [
    "df_2 = df_1.distinct() "
   ]
  },
  {
   "cell_type": "code",
   "execution_count": 79,
   "metadata": {
    "collapsed": false
   },
   "outputs": [
    {
     "name": "stdout",
     "output_type": "stream",
     "text": [
      "+-------+-----+\n",
      "|overall|Multi|\n",
      "+-------+-----+\n",
      "|    4.0|  8.0|\n",
      "+-------+-----+\n",
      "\n"
     ]
    }
   ],
   "source": [
    "#df_2.columns\n",
    "df_2.withColumn(\"Multi\",df_2['overall']*2).show()"
   ]
  },
  {
   "cell_type": "code",
   "execution_count": 80,
   "metadata": {
    "collapsed": false
   },
   "outputs": [
    {
     "data": {
      "text/plain": [
       "DataFrame[overall: double]"
      ]
     },
     "execution_count": 80,
     "metadata": {},
     "output_type": "execute_result"
    }
   ],
   "source": [
    "df_2.withColumnRenamed(\"Multi\",\"Lulti\")"
   ]
  },
  {
   "cell_type": "code",
   "execution_count": 83,
   "metadata": {
    "collapsed": false
   },
   "outputs": [
    {
     "name": "stdout",
     "output_type": "stream",
     "text": [
      "total 65256\r\n",
      "drwxr-xr-x  19 RahulReddy  staff       646 Jan  5 00:25 \u001b[34mlearningPySpark\u001b[m\u001b[m/\r\n",
      "-rw-r--r--   1 RahulReddy  staff  33396236 Jan  5 00:29 departuredelays.csv\r\n",
      "-rw-r--r--   1 RahulReddy  staff     11411 Jan  5 00:29 airport-codes-na.txt\r\n"
     ]
    }
   ],
   "source": [
    "%ls -ltr /Users/RahulReddy/Desktop/pyspark/data"
   ]
  },
  {
   "cell_type": "code",
   "execution_count": 84,
   "metadata": {
    "collapsed": false
   },
   "outputs": [],
   "source": [
    "df = spark.read.csv(\"/Users/RahulReddy/Desktop/pyspark/data/departuredelays.csv\",inferSchema=True, header=True)\n",
    "\n"
   ]
  },
  {
   "cell_type": "code",
   "execution_count": 85,
   "metadata": {
    "collapsed": false
   },
   "outputs": [
    {
     "data": {
      "text/plain": [
       "['date', 'delay', 'distance', 'origin', 'destination']"
      ]
     },
     "execution_count": 85,
     "metadata": {},
     "output_type": "execute_result"
    }
   ],
   "source": [
    "df.columns"
   ]
  },
  {
   "cell_type": "code",
   "execution_count": 111,
   "metadata": {
    "collapsed": false
   },
   "outputs": [
    {
     "data": {
      "text/plain": [
       "38988"
      ]
     },
     "execution_count": 111,
     "metadata": {},
     "output_type": "execute_result"
    }
   ],
   "source": [
    "df.filter((\"delay > 10\") and (\"destination = 'SFO'\")).count() \n",
    "#df.filter( (df['delay'] > 20) & (df['destination'] == 'SFO')).count()"
   ]
  },
  {
   "cell_type": "code",
   "execution_count": 113,
   "metadata": {
    "collapsed": false
   },
   "outputs": [
    {
     "data": {
      "text/plain": [
       "38988"
      ]
     },
     "execution_count": 113,
     "metadata": {},
     "output_type": "execute_result"
    }
   ],
   "source": [
    "df.filter((\"destination = 'SFO'\")).count()"
   ]
  },
  {
   "cell_type": "code",
   "execution_count": 117,
   "metadata": {
    "collapsed": false
   },
   "outputs": [
    {
     "data": {
      "text/plain": [
       "38988"
      ]
     },
     "execution_count": 117,
     "metadata": {},
     "output_type": "execute_result"
    }
   ],
   "source": [
    "df.filter(df['destination'] == 'SFO').count()"
   ]
  },
  {
   "cell_type": "code",
   "execution_count": 5,
   "metadata": {
    "collapsed": true
   },
   "outputs": [],
   "source": [
    "spark = SparkSession.builder.appName(\"publicdata\").getOrCreate()"
   ]
  },
  {
   "cell_type": "code",
   "execution_count": 3,
   "metadata": {
    "collapsed": false
   },
   "outputs": [],
   "source": [
    "df_1 = spark.read.csv(\"/Users/RahulReddy/Desktop/pyspark/data/Police_Department_Incident_Reports__2018_to_Present.csv\"\\\n",
    "                      ,inferSchema=True,header=True)"
   ]
  },
  {
   "cell_type": "code",
   "execution_count": 4,
   "metadata": {
    "collapsed": false
   },
   "outputs": [
    {
     "data": {
      "text/plain": [
       "156200"
      ]
     },
     "execution_count": 4,
     "metadata": {},
     "output_type": "execute_result"
    }
   ],
   "source": [
    "df_1.count()"
   ]
  },
  {
   "cell_type": "code",
   "execution_count": 5,
   "metadata": {
    "collapsed": false
   },
   "outputs": [
    {
     "data": {
      "text/plain": [
       "['Incident Datetime',\n",
       " 'Incident Date',\n",
       " 'Incident Time',\n",
       " 'Incident Year',\n",
       " 'Incident Day of Week',\n",
       " 'Report Datetime',\n",
       " 'Row ID',\n",
       " 'Incident ID',\n",
       " 'Incident Number',\n",
       " 'CAD Number',\n",
       " 'Report Type Code',\n",
       " 'Report Type Description',\n",
       " 'Filed Online',\n",
       " 'Incident Code',\n",
       " 'Incident Category',\n",
       " 'Incident Subcategory',\n",
       " 'Incident Description',\n",
       " 'Resolution',\n",
       " 'Intersection',\n",
       " 'CNN',\n",
       " 'Police District',\n",
       " 'Analysis Neighborhood',\n",
       " 'Supervisor District',\n",
       " 'Latitude',\n",
       " 'Longitude',\n",
       " 'point']"
      ]
     },
     "execution_count": 5,
     "metadata": {},
     "output_type": "execute_result"
    }
   ],
   "source": [
    "df_1.columns"
   ]
  },
  {
   "cell_type": "code",
   "execution_count": 6,
   "metadata": {
    "collapsed": false
   },
   "outputs": [
    {
     "name": "stdout",
     "output_type": "stream",
     "text": [
      "+--------+\n",
      "|     CNN|\n",
      "+--------+\n",
      "|30705000|\n",
      "|23250000|\n",
      "|23104000|\n",
      "|23104000|\n",
      "|23914000|\n",
      "|23914000|\n",
      "|23914000|\n",
      "|27247000|\n",
      "|21304000|\n",
      "|24319000|\n",
      "|22436000|\n",
      "|24933000|\n",
      "|33719000|\n",
      "|20356000|\n",
      "|25111000|\n",
      "|23827000|\n",
      "|23606000|\n",
      "|23603000|\n",
      "|24731000|\n",
      "|23876000|\n",
      "+--------+\n",
      "only showing top 20 rows\n",
      "\n"
     ]
    }
   ],
   "source": [
    "df_1.select(df_1['CNN']).show()"
   ]
  },
  {
   "cell_type": "code",
   "execution_count": 7,
   "metadata": {
    "collapsed": false
   },
   "outputs": [
    {
     "name": "stdout",
     "output_type": "stream",
     "text": [
      "root\n",
      " |-- Incident Datetime: string (nullable = true)\n",
      " |-- Incident Date: string (nullable = true)\n",
      " |-- Incident Time: string (nullable = true)\n",
      " |-- Incident Year: integer (nullable = true)\n",
      " |-- Incident Day of Week: string (nullable = true)\n",
      " |-- Report Datetime: string (nullable = true)\n",
      " |-- Row ID: long (nullable = true)\n",
      " |-- Incident ID: integer (nullable = true)\n",
      " |-- Incident Number: integer (nullable = true)\n",
      " |-- CAD Number: integer (nullable = true)\n",
      " |-- Report Type Code: string (nullable = true)\n",
      " |-- Report Type Description: string (nullable = true)\n",
      " |-- Filed Online: boolean (nullable = true)\n",
      " |-- Incident Code: integer (nullable = true)\n",
      " |-- Incident Category: string (nullable = true)\n",
      " |-- Incident Subcategory: string (nullable = true)\n",
      " |-- Incident Description: string (nullable = true)\n",
      " |-- Resolution: string (nullable = true)\n",
      " |-- Intersection: string (nullable = true)\n",
      " |-- CNN: decimal(8,0) (nullable = true)\n",
      " |-- Police District: string (nullable = true)\n",
      " |-- Analysis Neighborhood: string (nullable = true)\n",
      " |-- Supervisor District: integer (nullable = true)\n",
      " |-- Latitude: double (nullable = true)\n",
      " |-- Longitude: double (nullable = true)\n",
      " |-- point: string (nullable = true)\n",
      "\n"
     ]
    }
   ],
   "source": [
    "df_1.printSchema()"
   ]
  },
  {
   "cell_type": "code",
   "execution_count": 15,
   "metadata": {
    "collapsed": false
   },
   "outputs": [],
   "source": [
    "def replacename(column_name):\n",
    "    print(\"hello world\")\n"
   ]
  },
  {
   "cell_type": "code",
   "execution_count": 22,
   "metadata": {
    "collapsed": false
   },
   "outputs": [
    {
     "name": "stdout",
     "output_type": "stream",
     "text": [
      "+-------------+-----+\n",
      "|Incident Date|count|\n",
      "+-------------+-----+\n",
      "|   2018/07/29|  434|\n",
      "|   2018/05/28|  406|\n",
      "|   2018/09/03|  431|\n",
      "|   2018/04/14|  422|\n",
      "|   2018/01/09|  406|\n",
      "|   2018/12/02|  342|\n",
      "|   2018/12/28|  411|\n",
      "|   2018/03/30|  461|\n",
      "|   2018/10/08|  403|\n",
      "|   2018/11/14|  437|\n",
      "|   2018/08/19|  365|\n",
      "|   2018/04/27|  451|\n",
      "|   2018/04/26|  439|\n",
      "|   2018/10/14|  353|\n",
      "|   2018/04/24|  404|\n",
      "|   2018/11/27|  311|\n",
      "|   2018/09/18|  437|\n",
      "|   2018/04/13|  518|\n",
      "|   2018/01/17|  402|\n",
      "|   2018/10/17|  441|\n",
      "+-------------+-----+\n",
      "only showing top 20 rows\n",
      "\n"
     ]
    }
   ],
   "source": [
    "df_1.groupby(\"Incident Date\").count().show()"
   ]
  },
  {
   "cell_type": "code",
   "execution_count": 30,
   "metadata": {
    "collapsed": false
   },
   "outputs": [],
   "source": [
    "df_1.createOrReplaceTempView(\"Crimeincidents\")"
   ]
  },
  {
   "cell_type": "code",
   "execution_count": 37,
   "metadata": {
    "collapsed": false
   },
   "outputs": [
    {
     "name": "stdout",
     "output_type": "stream",
     "text": [
      "+--------------------+--------+\n",
      "|               point|count(1)|\n",
      "+--------------------+--------+\n",
      "|(37.8001339367638...|      39|\n",
      "|(37.7105934383251...|       9|\n",
      "|(37.7604807987870...|       8|\n",
      "|(37.7616481247770...|       5|\n",
      "|(37.7404068778103...|       5|\n",
      "|(37.8106811075354...|      19|\n",
      "|(37.7255699837237...|       3|\n",
      "|(37.7815772939155...|      21|\n",
      "|(37.7486644998966...|       6|\n",
      "|(37.7639898883077...|      17|\n",
      "|(37.7891152300978...|      21|\n",
      "|(37.7902753527901...|       9|\n",
      "|(37.7845466087888...|      28|\n",
      "|(37.7382444620362...|       5|\n",
      "|(37.7283620714459...|       2|\n",
      "|(37.7456645946404...|       2|\n",
      "|(37.7749953174592...|       5|\n",
      "|(37.7301101957382...|       1|\n",
      "|(37.7204499957522...|      22|\n",
      "|(37.7817987671443...|     103|\n",
      "+--------------------+--------+\n",
      "only showing top 20 rows\n",
      "\n"
     ]
    }
   ],
   "source": [
    "spark.sql(\"select point, count(1) from Crimeincidents group by point\").show()"
   ]
  },
  {
   "cell_type": "code",
   "execution_count": 43,
   "metadata": {
    "collapsed": false
   },
   "outputs": [
    {
     "data": {
      "text/plain": [
       "[DataFrame[Incident_Datetime: string, Incident Date: string, Incident Time: string, Incident Year: int, Incident Day of Week: string, Report Datetime: string, Row ID: bigint, Incident ID: int, Incident Number: int, CAD Number: int, Report Type Code: string, Report Type Description: string, Filed Online: boolean, Incident Code: int, Incident Category: string, Incident Subcategory: string, Incident Description: string, Resolution: string, Intersection: string, CNN: decimal(8,0), Police District: string, Analysis Neighborhood: string, Supervisor District: int, Latitude: double, Longitude: double, point: string],\n",
       " DataFrame[Incident Datetime: string, Incident_Date: string, Incident Time: string, Incident Year: int, Incident Day of Week: string, Report Datetime: string, Row ID: bigint, Incident ID: int, Incident Number: int, CAD Number: int, Report Type Code: string, Report Type Description: string, Filed Online: boolean, Incident Code: int, Incident Category: string, Incident Subcategory: string, Incident Description: string, Resolution: string, Intersection: string, CNN: decimal(8,0), Police District: string, Analysis Neighborhood: string, Supervisor District: int, Latitude: double, Longitude: double, point: string],\n",
       " DataFrame[Incident Datetime: string, Incident Date: string, Incident_Time: string, Incident Year: int, Incident Day of Week: string, Report Datetime: string, Row ID: bigint, Incident ID: int, Incident Number: int, CAD Number: int, Report Type Code: string, Report Type Description: string, Filed Online: boolean, Incident Code: int, Incident Category: string, Incident Subcategory: string, Incident Description: string, Resolution: string, Intersection: string, CNN: decimal(8,0), Police District: string, Analysis Neighborhood: string, Supervisor District: int, Latitude: double, Longitude: double, point: string],\n",
       " DataFrame[Incident Datetime: string, Incident Date: string, Incident Time: string, Incident_Year: int, Incident Day of Week: string, Report Datetime: string, Row ID: bigint, Incident ID: int, Incident Number: int, CAD Number: int, Report Type Code: string, Report Type Description: string, Filed Online: boolean, Incident Code: int, Incident Category: string, Incident Subcategory: string, Incident Description: string, Resolution: string, Intersection: string, CNN: decimal(8,0), Police District: string, Analysis Neighborhood: string, Supervisor District: int, Latitude: double, Longitude: double, point: string],\n",
       " DataFrame[Incident Datetime: string, Incident Date: string, Incident Time: string, Incident Year: int, Incident_Day_of_Week: string, Report Datetime: string, Row ID: bigint, Incident ID: int, Incident Number: int, CAD Number: int, Report Type Code: string, Report Type Description: string, Filed Online: boolean, Incident Code: int, Incident Category: string, Incident Subcategory: string, Incident Description: string, Resolution: string, Intersection: string, CNN: decimal(8,0), Police District: string, Analysis Neighborhood: string, Supervisor District: int, Latitude: double, Longitude: double, point: string],\n",
       " DataFrame[Incident Datetime: string, Incident Date: string, Incident Time: string, Incident Year: int, Incident Day of Week: string, Report_Datetime: string, Row ID: bigint, Incident ID: int, Incident Number: int, CAD Number: int, Report Type Code: string, Report Type Description: string, Filed Online: boolean, Incident Code: int, Incident Category: string, Incident Subcategory: string, Incident Description: string, Resolution: string, Intersection: string, CNN: decimal(8,0), Police District: string, Analysis Neighborhood: string, Supervisor District: int, Latitude: double, Longitude: double, point: string],\n",
       " DataFrame[Incident Datetime: string, Incident Date: string, Incident Time: string, Incident Year: int, Incident Day of Week: string, Report Datetime: string, Row_ID: bigint, Incident ID: int, Incident Number: int, CAD Number: int, Report Type Code: string, Report Type Description: string, Filed Online: boolean, Incident Code: int, Incident Category: string, Incident Subcategory: string, Incident Description: string, Resolution: string, Intersection: string, CNN: decimal(8,0), Police District: string, Analysis Neighborhood: string, Supervisor District: int, Latitude: double, Longitude: double, point: string],\n",
       " DataFrame[Incident Datetime: string, Incident Date: string, Incident Time: string, Incident Year: int, Incident Day of Week: string, Report Datetime: string, Row ID: bigint, Incident_ID: int, Incident Number: int, CAD Number: int, Report Type Code: string, Report Type Description: string, Filed Online: boolean, Incident Code: int, Incident Category: string, Incident Subcategory: string, Incident Description: string, Resolution: string, Intersection: string, CNN: decimal(8,0), Police District: string, Analysis Neighborhood: string, Supervisor District: int, Latitude: double, Longitude: double, point: string],\n",
       " DataFrame[Incident Datetime: string, Incident Date: string, Incident Time: string, Incident Year: int, Incident Day of Week: string, Report Datetime: string, Row ID: bigint, Incident ID: int, Incident_Number: int, CAD Number: int, Report Type Code: string, Report Type Description: string, Filed Online: boolean, Incident Code: int, Incident Category: string, Incident Subcategory: string, Incident Description: string, Resolution: string, Intersection: string, CNN: decimal(8,0), Police District: string, Analysis Neighborhood: string, Supervisor District: int, Latitude: double, Longitude: double, point: string],\n",
       " DataFrame[Incident Datetime: string, Incident Date: string, Incident Time: string, Incident Year: int, Incident Day of Week: string, Report Datetime: string, Row ID: bigint, Incident ID: int, Incident Number: int, CAD_Number: int, Report Type Code: string, Report Type Description: string, Filed Online: boolean, Incident Code: int, Incident Category: string, Incident Subcategory: string, Incident Description: string, Resolution: string, Intersection: string, CNN: decimal(8,0), Police District: string, Analysis Neighborhood: string, Supervisor District: int, Latitude: double, Longitude: double, point: string],\n",
       " DataFrame[Incident Datetime: string, Incident Date: string, Incident Time: string, Incident Year: int, Incident Day of Week: string, Report Datetime: string, Row ID: bigint, Incident ID: int, Incident Number: int, CAD Number: int, Report_Type_Code: string, Report Type Description: string, Filed Online: boolean, Incident Code: int, Incident Category: string, Incident Subcategory: string, Incident Description: string, Resolution: string, Intersection: string, CNN: decimal(8,0), Police District: string, Analysis Neighborhood: string, Supervisor District: int, Latitude: double, Longitude: double, point: string],\n",
       " DataFrame[Incident Datetime: string, Incident Date: string, Incident Time: string, Incident Year: int, Incident Day of Week: string, Report Datetime: string, Row ID: bigint, Incident ID: int, Incident Number: int, CAD Number: int, Report Type Code: string, Report_Type_Description: string, Filed Online: boolean, Incident Code: int, Incident Category: string, Incident Subcategory: string, Incident Description: string, Resolution: string, Intersection: string, CNN: decimal(8,0), Police District: string, Analysis Neighborhood: string, Supervisor District: int, Latitude: double, Longitude: double, point: string],\n",
       " DataFrame[Incident Datetime: string, Incident Date: string, Incident Time: string, Incident Year: int, Incident Day of Week: string, Report Datetime: string, Row ID: bigint, Incident ID: int, Incident Number: int, CAD Number: int, Report Type Code: string, Report Type Description: string, Filed_Online: boolean, Incident Code: int, Incident Category: string, Incident Subcategory: string, Incident Description: string, Resolution: string, Intersection: string, CNN: decimal(8,0), Police District: string, Analysis Neighborhood: string, Supervisor District: int, Latitude: double, Longitude: double, point: string],\n",
       " DataFrame[Incident Datetime: string, Incident Date: string, Incident Time: string, Incident Year: int, Incident Day of Week: string, Report Datetime: string, Row ID: bigint, Incident ID: int, Incident Number: int, CAD Number: int, Report Type Code: string, Report Type Description: string, Filed Online: boolean, Incident_Code: int, Incident Category: string, Incident Subcategory: string, Incident Description: string, Resolution: string, Intersection: string, CNN: decimal(8,0), Police District: string, Analysis Neighborhood: string, Supervisor District: int, Latitude: double, Longitude: double, point: string],\n",
       " DataFrame[Incident Datetime: string, Incident Date: string, Incident Time: string, Incident Year: int, Incident Day of Week: string, Report Datetime: string, Row ID: bigint, Incident ID: int, Incident Number: int, CAD Number: int, Report Type Code: string, Report Type Description: string, Filed Online: boolean, Incident Code: int, Incident_Category: string, Incident Subcategory: string, Incident Description: string, Resolution: string, Intersection: string, CNN: decimal(8,0), Police District: string, Analysis Neighborhood: string, Supervisor District: int, Latitude: double, Longitude: double, point: string],\n",
       " DataFrame[Incident Datetime: string, Incident Date: string, Incident Time: string, Incident Year: int, Incident Day of Week: string, Report Datetime: string, Row ID: bigint, Incident ID: int, Incident Number: int, CAD Number: int, Report Type Code: string, Report Type Description: string, Filed Online: boolean, Incident Code: int, Incident Category: string, Incident_Subcategory: string, Incident Description: string, Resolution: string, Intersection: string, CNN: decimal(8,0), Police District: string, Analysis Neighborhood: string, Supervisor District: int, Latitude: double, Longitude: double, point: string],\n",
       " DataFrame[Incident Datetime: string, Incident Date: string, Incident Time: string, Incident Year: int, Incident Day of Week: string, Report Datetime: string, Row ID: bigint, Incident ID: int, Incident Number: int, CAD Number: int, Report Type Code: string, Report Type Description: string, Filed Online: boolean, Incident Code: int, Incident Category: string, Incident Subcategory: string, Incident_Description: string, Resolution: string, Intersection: string, CNN: decimal(8,0), Police District: string, Analysis Neighborhood: string, Supervisor District: int, Latitude: double, Longitude: double, point: string],\n",
       " DataFrame[Incident Datetime: string, Incident Date: string, Incident Time: string, Incident Year: int, Incident Day of Week: string, Report Datetime: string, Row ID: bigint, Incident ID: int, Incident Number: int, CAD Number: int, Report Type Code: string, Report Type Description: string, Filed Online: boolean, Incident Code: int, Incident Category: string, Incident Subcategory: string, Incident Description: string, Resolution: string, Intersection: string, CNN: decimal(8,0), Police District: string, Analysis Neighborhood: string, Supervisor District: int, Latitude: double, Longitude: double, point: string],\n",
       " DataFrame[Incident Datetime: string, Incident Date: string, Incident Time: string, Incident Year: int, Incident Day of Week: string, Report Datetime: string, Row ID: bigint, Incident ID: int, Incident Number: int, CAD Number: int, Report Type Code: string, Report Type Description: string, Filed Online: boolean, Incident Code: int, Incident Category: string, Incident Subcategory: string, Incident Description: string, Resolution: string, Intersection: string, CNN: decimal(8,0), Police District: string, Analysis Neighborhood: string, Supervisor District: int, Latitude: double, Longitude: double, point: string],\n",
       " DataFrame[Incident Datetime: string, Incident Date: string, Incident Time: string, Incident Year: int, Incident Day of Week: string, Report Datetime: string, Row ID: bigint, Incident ID: int, Incident Number: int, CAD Number: int, Report Type Code: string, Report Type Description: string, Filed Online: boolean, Incident Code: int, Incident Category: string, Incident Subcategory: string, Incident Description: string, Resolution: string, Intersection: string, CNN: decimal(8,0), Police District: string, Analysis Neighborhood: string, Supervisor District: int, Latitude: double, Longitude: double, point: string],\n",
       " DataFrame[Incident Datetime: string, Incident Date: string, Incident Time: string, Incident Year: int, Incident Day of Week: string, Report Datetime: string, Row ID: bigint, Incident ID: int, Incident Number: int, CAD Number: int, Report Type Code: string, Report Type Description: string, Filed Online: boolean, Incident Code: int, Incident Category: string, Incident Subcategory: string, Incident Description: string, Resolution: string, Intersection: string, CNN: decimal(8,0), Police_District: string, Analysis Neighborhood: string, Supervisor District: int, Latitude: double, Longitude: double, point: string],\n",
       " DataFrame[Incident Datetime: string, Incident Date: string, Incident Time: string, Incident Year: int, Incident Day of Week: string, Report Datetime: string, Row ID: bigint, Incident ID: int, Incident Number: int, CAD Number: int, Report Type Code: string, Report Type Description: string, Filed Online: boolean, Incident Code: int, Incident Category: string, Incident Subcategory: string, Incident Description: string, Resolution: string, Intersection: string, CNN: decimal(8,0), Police District: string, Analysis_Neighborhood: string, Supervisor District: int, Latitude: double, Longitude: double, point: string],\n",
       " DataFrame[Incident Datetime: string, Incident Date: string, Incident Time: string, Incident Year: int, Incident Day of Week: string, Report Datetime: string, Row ID: bigint, Incident ID: int, Incident Number: int, CAD Number: int, Report Type Code: string, Report Type Description: string, Filed Online: boolean, Incident Code: int, Incident Category: string, Incident Subcategory: string, Incident Description: string, Resolution: string, Intersection: string, CNN: decimal(8,0), Police District: string, Analysis Neighborhood: string, Supervisor_District: int, Latitude: double, Longitude: double, point: string],\n",
       " DataFrame[Incident Datetime: string, Incident Date: string, Incident Time: string, Incident Year: int, Incident Day of Week: string, Report Datetime: string, Row ID: bigint, Incident ID: int, Incident Number: int, CAD Number: int, Report Type Code: string, Report Type Description: string, Filed Online: boolean, Incident Code: int, Incident Category: string, Incident Subcategory: string, Incident Description: string, Resolution: string, Intersection: string, CNN: decimal(8,0), Police District: string, Analysis Neighborhood: string, Supervisor District: int, Latitude: double, Longitude: double, point: string],\n",
       " DataFrame[Incident Datetime: string, Incident Date: string, Incident Time: string, Incident Year: int, Incident Day of Week: string, Report Datetime: string, Row ID: bigint, Incident ID: int, Incident Number: int, CAD Number: int, Report Type Code: string, Report Type Description: string, Filed Online: boolean, Incident Code: int, Incident Category: string, Incident Subcategory: string, Incident Description: string, Resolution: string, Intersection: string, CNN: decimal(8,0), Police District: string, Analysis Neighborhood: string, Supervisor District: int, Latitude: double, Longitude: double, point: string],\n",
       " DataFrame[Incident Datetime: string, Incident Date: string, Incident Time: string, Incident Year: int, Incident Day of Week: string, Report Datetime: string, Row ID: bigint, Incident ID: int, Incident Number: int, CAD Number: int, Report Type Code: string, Report Type Description: string, Filed Online: boolean, Incident Code: int, Incident Category: string, Incident Subcategory: string, Incident Description: string, Resolution: string, Intersection: string, CNN: decimal(8,0), Police District: string, Analysis Neighborhood: string, Supervisor District: int, Latitude: double, Longitude: double, point: string]]"
      ]
     },
     "execution_count": 43,
     "metadata": {},
     "output_type": "execute_result"
    }
   ],
   "source": [
    "[df_1.withColumnRenamed(i, i.replace(\" \",\"_\")) for i in df_1.columns]"
   ]
  },
  {
   "cell_type": "code",
   "execution_count": 44,
   "metadata": {
    "collapsed": false
   },
   "outputs": [
    {
     "data": {
      "text/plain": [
       "['Incident Datetime',\n",
       " 'Incident Date',\n",
       " 'Incident Time',\n",
       " 'Incident Year',\n",
       " 'Incident Day of Week',\n",
       " 'Report Datetime',\n",
       " 'Row ID',\n",
       " 'Incident ID',\n",
       " 'Incident Number',\n",
       " 'CAD Number',\n",
       " 'Report Type Code',\n",
       " 'Report Type Description',\n",
       " 'Filed Online',\n",
       " 'Incident Code',\n",
       " 'Incident Category',\n",
       " 'Incident Subcategory',\n",
       " 'Incident Description',\n",
       " 'Resolution',\n",
       " 'Intersection',\n",
       " 'CNN',\n",
       " 'Police District',\n",
       " 'Analysis Neighborhood',\n",
       " 'Supervisor District',\n",
       " 'Latitude',\n",
       " 'Longitude',\n",
       " 'point']"
      ]
     },
     "execution_count": 44,
     "metadata": {},
     "output_type": "execute_result"
    }
   ],
   "source": [
    "df_1.columns"
   ]
  },
  {
   "cell_type": "code",
   "execution_count": 82,
   "metadata": {
    "collapsed": false
   },
   "outputs": [],
   "source": [
    "\n",
    "b = []\n",
    "def columnname(df):\n",
    "    a = df.columns\n",
    "    for i in a:\n",
    "       #b = (i,i.replace(\" \",\"_\")) \n",
    "       #for (x,y) in b:\n",
    "        df.withColumnRenamed(i,i.replace(\" \",\"_\"))\n",
    "    return df"
   ]
  },
  {
   "cell_type": "code",
   "execution_count": 92,
   "metadata": {
    "collapsed": false
   },
   "outputs": [],
   "source": [
    "df_3 =  columnname(df_1).toDF"
   ]
  },
  {
   "cell_type": "code",
   "execution_count": 97,
   "metadata": {
    "collapsed": false
   },
   "outputs": [],
   "source": [
    "new_column_name_list= map(lambda x: x.replace(\" \", \"_\"), df_1.columns)"
   ]
  },
  {
   "cell_type": "code",
   "execution_count": 99,
   "metadata": {
    "collapsed": true
   },
   "outputs": [],
   "source": [
    "df = df_1.toDF(*new_column_name_list)"
   ]
  },
  {
   "cell_type": "code",
   "execution_count": 101,
   "metadata": {
    "collapsed": false
   },
   "outputs": [
    {
     "name": "stdout",
     "output_type": "stream",
     "text": [
      "+--------------------+-------------+-------------+-------------+--------------------+--------------------+-----------+-----------+---------------+----------+----------------+-----------------------+------------+-------------+--------------------+--------------------+--------------------+--------------------+--------------------+--------+---------------+---------------------+-------------------+------------------+-------------------+--------------------+\n",
      "|   Incident_Datetime|Incident_Date|Incident_Time|Incident_Year|Incident_Day_of_Week|     Report_Datetime|     Row_ID|Incident_ID|Incident_Number|CAD_Number|Report_Type_Code|Report_Type_Description|Filed_Online|Incident_Code|   Incident_Category|Incident_Subcategory|Incident_Description|          Resolution|        Intersection|     CNN|Police_District|Analysis_Neighborhood|Supervisor_District|          Latitude|          Longitude|               point|\n",
      "+--------------------+-------------+-------------+-------------+--------------------+--------------------+-----------+-----------+---------------+----------+----------------+-----------------------+------------+-------------+--------------------+--------------------+--------------------+--------------------+--------------------+--------+---------------+---------------------+-------------------+------------------+-------------------+--------------------+\n",
      "|2018/10/22 10:50:...|   2018/10/22|        10:50|         2018|              Monday|2018/10/22 11:24:...|72897505073|     728975|      180801798| 182951518|              II|                Initial|        null|         5073|            Burglary|    Burglary - Other|Burglary, Other B...|      Open or Active|VAN NESS AVE \\ OA...|30705000|       Northern|           Tenderloin|                  6|  37.7754222198843|-122.41939688941916|(37.7754222198843...|\n",
      "|2018/08/24 02:50:...|   2018/08/24|        14:50|         2018|              Friday|2018/08/24 02:52:...|72925174010|     729251|      180638466| 181362475|              II|                Initial|        null|        74010|      Missing Person|    Missing Juvenile|    Missing Juvenile|      Open or Active|28TH AVE \\ VICENT...|23250000|        Taraval|      Sunset/Parkside|                  4|37.738899869536326|-122.48507449528636|(37.7388998695363...|\n",
      "|2018/10/14 02:54:...|   2018/10/14|        14:54|         2018|              Sunday|2018/10/24 01:10:...|72980906303|     729809|      180807520| 182971760|              II|                Initial|        null|         6303|       Larceny Theft|Larceny Theft - F...|Theft, From Build...|      Open or Active|PINTO AVE \\ ARBAL...|23104000|        Taraval|            Lakeshore|                  7|  37.7204499957522|-122.48301534194144|(37.7204499957522...|\n",
      "|2018/10/14 02:54:...|   2018/10/14|        14:54|         2018|              Sunday|2018/10/24 01:10:...|72980964070|     729809|      180807520| 182971760|              II|                Initial|        null|        64070|      Suspicious Occ|      Suspicious Occ|Suspicious Occurr...|      Open or Active|PINTO AVE \\ ARBAL...|23104000|        Taraval|            Lakeshore|                  7|  37.7204499957522|-122.48301534194144|(37.7204499957522...|\n",
      "|2018/10/18 04:40:...|   2018/10/18|        16:40|         2018|            Thursday|2018/10/26 07:42:...|73011316650|     730113|      180791014| 182911410|              IS|     Initial Supplement|        null|        16650|        Drug Offense|      Drug Violation|Methamphetamine O...|Cite or Arrest Adult|BOARDMAN PL \\ BRY...|23914000|       Southern|      South of Market|                  6|  37.7751608100771|-122.40363551943442|(37.7751608100771...|\n",
      "|2018/10/18 04:40:...|   2018/10/18|        16:40|         2018|            Thursday|2018/10/26 07:42:...|73011316710|     730113|      180791014| 182911410|              IS|     Initial Supplement|        null|        16710|        Drug Offense|      Drug Violation|Narcotics Paraphe...|Cite or Arrest Adult|BOARDMAN PL \\ BRY...|23914000|       Southern|      South of Market|                  6|  37.7751608100771|-122.40363551943442|(37.7751608100771...|\n",
      "|2018/10/18 04:40:...|   2018/10/18|        16:40|         2018|            Thursday|2018/10/26 07:42:...|73011365010|     730113|      180791014| 182911410|              IS|     Initial Supplement|        null|        65010|Traffic Violation...|Traffic Violation...|Traffic Violation...|Cite or Arrest Adult|BOARDMAN PL \\ BRY...|23914000|       Southern|      South of Market|                  6|  37.7751608100771|-122.40363551943442|(37.7751608100771...|\n",
      "|2018/10/25 07:45:...|   2018/10/25|        07:45|         2018|            Thursday|2018/10/25 07:51:...|73012764020|     730127|      180809372| 182980666|              II|                Initial|        null|        64020|        Non-Criminal|               Other|Mental Health Det...|      Open or Active|03RD AVE \\ CLEMEN...|27247000|       Richmond|       Inner Richmond|                  1|37.783087441092704|-122.46120747577554|(37.7830874410927...|\n",
      "|2018/06/30 10:10:...|   2018/06/30|        22:10|         2018|            Saturday|2018/06/30 10:10:...|73013865050|     730138|      180486657| 181813654|              IS|     Initial Supplement|        null|        65050| Other Miscellaneous|               Other|Driving While Und...|Cite or Arrest Adult|CESAR CHAVEZ ST \\...|21304000|        Mission|       Bernal Heights|                  9| 37.74816568813204|-122.41822117169174|(37.7481656881320...|\n",
      "|2018/10/25 03:00:...|   2018/10/25|        03:00|         2018|            Thursday|2018/10/25 07:39:...|73016503074|     730165|      180809601| 182980624|              II|                Initial|        null|         3074|             Robbery|     Robbery - Other|   Robbery, W/ Force|      Open or Active|STEVENSON ST \\ 07...|24319000|     Tenderloin|      South of Market|                  6|37.780005867994824|-122.41193341005338|(37.7800058679948...|\n",
      "|2018/10/10 09:30:...|   2018/10/10|        09:30|         2018|           Wednesday|2018/10/17 02:12:...|73018903074|     730189|      180788099| 182902146|              IS|     Initial Supplement|        null|         3074|             Robbery|     Robbery - Other|   Robbery, W/ Force|      Open or Active|WOODSIDE AVE \\ OS...|22436000|      Ingleside|           Twin Peaks|                  7|  37.7455342365164|-122.45162398822991|(37.7455342365164...|\n",
      "|2018/10/20 11:15:...|   2018/10/20|        23:15|         2018|            Saturday|2018/10/25 01:20:...|73019004013|     730190|      180810056| 182933939|              II|                Initial|        null|         4013|             Assault|  Aggravated Assault|Assault, Aggravat...|      Open or Active|   HYDE ST \\ TURK ST|24933000|     Tenderloin|           Tenderloin|                  6| 37.78258503232177|-122.41569387441227|(37.7825850323217...|\n",
      "|2018/10/25 10:40:...|   2018/10/25|        10:40|         2018|            Thursday|2018/10/25 01:32:...|73019506244|     730195|      180810078| 182982046|              II|                Initial|        null|         6244|       Larceny Theft|Larceny - From Ve...|Theft, From Locke...|      Open or Active|20TH AVE \\ WINSTO...|33719000|        Taraval|            Lakeshore|                  7| 37.72694991292525|-122.47603947349434|(37.7269499129252...|\n",
      "|2018/10/25 07:30:...|   2018/10/25|        07:30|         2018|            Thursday|2018/10/25 07:36:...|73019906154|     730199|      180809350| 182980609|              II|                Initial|        null|         6154|       Larceny Theft|Larceny Theft - O...|Theft, From Perso...|      Open or Active|RUTLAND ST \\ LELA...|20356000|      Ingleside|    Visitacion Valley|                 10|37.712547388545694|-122.40734778224339|(37.7125473885456...|\n",
      "|2018/10/25 08:37:...|   2018/10/25|        08:37|         2018|            Thursday|2018/10/25 08:40:...|73020528100|     730205|      180809667| 182980835|              II|                Initial|        null|        28100|  Malicious Mischief|           Vandalism|Malicious Mischie...|      Open or Active|ROBERT C LEVY TUN...|25111000|        Central|            Chinatown|                  3| 37.79742018466854|-122.41026352609894|(37.7974201846685...|\n",
      "|2018/10/24 12:30:...|   2018/10/24|        12:30|         2018|           Wednesday|2018/10/25 05:06:...|73021006374|     730210|      180809714| 182980359|              II|                Initial|        null|         6374|       Larceny Theft|Larceny Theft - O...|Theft, Other Prop...|      Open or Active|04TH ST \\ BRANNAN ST|23827000|       Southern|      South of Market|                  6|  37.7783268304671|-122.39653063923612|(37.7783268304671...|\n",
      "|2018/10/25 01:39:...|   2018/10/25|        13:39|         2018|            Thursday|2018/10/25 04:56:...|73024006242|     730240|      180810705| 182982924|              II|                Initial|        null|         6242|       Larceny Theft|Larceny - From Ve...|Theft, From Locke...|      Open or Active|SPEAR ST \\ HARRIS...|23606000|       Southern| Financial Distric...|                  6| 37.78883777870189|-122.38942894299095|(37.7888377787018...|\n",
      "|2018/10/25 07:00:...|   2018/10/25|        07:00|         2018|            Thursday|2018/10/25 07:08:...|73024272000|     730242|      180810391| 182980538|              II|                Initial|        null|        72000|        Non-Criminal|        Non-Criminal|     Found  Property|      Open or Active|MAIN ST \\ HARRISO...|23603000|       Southern| Financial Distric...|                  6| 37.78813450138674|-122.39031948501302|(37.7881345013867...|\n",
      "|2018/10/23 02:00:...|   2018/10/23|        14:00|         2018|             Tuesday|2018/10/25 03:22:...|73025968020|     730259|      180810846| 182982488|              II|                Initial|        null|        68020|Miscellaneous Inv...|Miscellaneous Inv...|Miscellaneous Inv...|      Open or Active|SPRING ST \\ CALIF...|24731000|        Central| Financial Distric...|                  3| 37.79271713088081|-122.40382800047023|(37.7927171308808...|\n",
      "|2018/10/25 05:40:...|   2018/10/25|        17:40|         2018|            Thursday|2018/10/25 05:43:...|73027604134|     730276|      180811098| 182983153|              II|                Initial|        null|         4134|             Assault|      Simple Assault|             Battery|      Open or Active|BRYANT ST \\ LANGT...|23876000|       Southern|      South of Market|                  6| 37.77385630397913|-122.40528580238285|(37.7738563039791...|\n",
      "+--------------------+-------------+-------------+-------------+--------------------+--------------------+-----------+-----------+---------------+----------+----------------+-----------------------+------------+-------------+--------------------+--------------------+--------------------+--------------------+--------------------+--------+---------------+---------------------+-------------------+------------------+-------------------+--------------------+\n",
      "only showing top 20 rows\n",
      "\n"
     ]
    }
   ],
   "source": [
    "df.show()"
   ]
  },
  {
   "cell_type": "code",
   "execution_count": 103,
   "metadata": {
    "collapsed": false
   },
   "outputs": [
    {
     "data": {
      "text/plain": [
       "DataFrame[IncidentDatetime: string, Incident_Date: string, Incident_Time: string, Incident_Year: int, Incident_Day_of_Week: string, Report_Datetime: string, Row_ID: bigint, Incident_ID: int, Incident_Number: int, CAD_Number: int, Report_Type_Code: string, Report_Type_Description: string, Filed_Online: boolean, Incident_Code: int, Incident_Category: string, Incident_Subcategory: string, Incident_Description: string, Resolution: string, Intersection: string, CNN: decimal(8,0), Police_District: string, Analysis_Neighborhood: string, Supervisor_District: int, Latitude: double, Longitude: double, point: string]"
      ]
     },
     "execution_count": 103,
     "metadata": {},
     "output_type": "execute_result"
    }
   ],
   "source": [
    "df.withColumnRenamed('Incident_Datetime','IncidentDatetime')\n"
   ]
  },
  {
   "cell_type": "code",
   "execution_count": 104,
   "metadata": {
    "collapsed": false
   },
   "outputs": [
    {
     "data": {
      "text/plain": [
       "['Incident_Datetime',\n",
       " 'Incident_Date',\n",
       " 'Incident_Time',\n",
       " 'Incident_Year',\n",
       " 'Incident_Day_of_Week',\n",
       " 'Report_Datetime',\n",
       " 'Row_ID',\n",
       " 'Incident_ID',\n",
       " 'Incident_Number',\n",
       " 'CAD_Number',\n",
       " 'Report_Type_Code',\n",
       " 'Report_Type_Description',\n",
       " 'Filed_Online',\n",
       " 'Incident_Code',\n",
       " 'Incident_Category',\n",
       " 'Incident_Subcategory',\n",
       " 'Incident_Description',\n",
       " 'Resolution',\n",
       " 'Intersection',\n",
       " 'CNN',\n",
       " 'Police_District',\n",
       " 'Analysis_Neighborhood',\n",
       " 'Supervisor_District',\n",
       " 'Latitude',\n",
       " 'Longitude',\n",
       " 'point']"
      ]
     },
     "execution_count": 104,
     "metadata": {},
     "output_type": "execute_result"
    }
   ],
   "source": [
    "df.columns"
   ]
  },
  {
   "cell_type": "code",
   "execution_count": null,
   "metadata": {
    "collapsed": true
   },
   "outputs": [],
   "source": []
  }
 ],
 "metadata": {
  "kernelspec": {
   "display_name": "Python 2",
   "language": "python",
   "name": "python2"
  },
  "language_info": {
   "codemirror_mode": {
    "name": "ipython",
    "version": 2
   },
   "file_extension": ".py",
   "mimetype": "text/x-python",
   "name": "python",
   "nbconvert_exporter": "python",
   "pygments_lexer": "ipython2",
   "version": "2.7.13"
  }
 },
 "nbformat": 4,
 "nbformat_minor": 0
}
