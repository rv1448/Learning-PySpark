{
 "cells": [
  {
   "cell_type": "markdown",
   "metadata": {},
   "source": [
    "# Intro to Rdd transformations"
   ]
  },
  {
   "cell_type": "code",
   "execution_count": 7,
   "metadata": {
    "collapsed": false
   },
   "outputs": [
    {
     "data": {
      "text/plain": [
       "527"
      ]
     },
     "execution_count": 7,
     "metadata": {},
     "output_type": "execute_result"
    }
   ],
   "source": [
    "rdd_airports = (\n",
    "                 sc. textFile(\"/Users/RahulReddy/Desktop/pyspark/data/airport-codes-na.txt\")\n",
    "                .map(lambda element: element.split(\"\\t\"))\n",
    "    )\n",
    "rdd_airports.count()"
   ]
  },
  {
   "cell_type": "code",
   "execution_count": 8,
   "metadata": {
    "collapsed": false
   },
   "outputs": [
    {
     "data": {
      "text/plain": [
       "1391579"
      ]
     },
     "execution_count": 8,
     "metadata": {},
     "output_type": "execute_result"
    }
   ],
   "source": [
    "rdd_depart =  ( \n",
    "                sc.textFile(\"/Users/RahulReddy/Desktop/pyspark/data/departuredelays.csv\")\n",
    "                .map(lambda element: element.split(\",\"))\n",
    "                )\n",
    "rdd_depart.count()"
   ]
  },
  {
   "cell_type": "code",
   "execution_count": 9,
   "metadata": {
    "collapsed": false
   },
   "outputs": [
    {
     "data": {
      "text/plain": [
       "[[u'date', u'delay', u'distance', u'origin', u'destination'],\n",
       " [u'01011245', u'6', u'602', u'ABE', u'ATL'],\n",
       " [u'01020600', u'-8', u'369', u'ABE', u'DTW']]"
      ]
     },
     "execution_count": 9,
     "metadata": {},
     "output_type": "execute_result"
    }
   ],
   "source": [
    "rdd_depart.take(3)"
   ]
  },
  {
   "cell_type": "code",
   "execution_count": 12,
   "metadata": {
    "collapsed": false
   },
   "outputs": [
    {
     "data": {
      "text/plain": [
       "[(u'City', u'State'),\n",
       " (u'Abbotsford', u'BC'),\n",
       " (u'Aberdeen', u'SD'),\n",
       " (u'Abilene', u'TX'),\n",
       " (u'Akron', u'OH')]"
      ]
     },
     "execution_count": 12,
     "metadata": {},
     "output_type": "execute_result"
    }
   ],
   "source": [
    "rdd_airports.map(lambda line: (line[0],line[1])).take(5)  #select columns using map and column indexes"
   ]
  },
  {
   "cell_type": "code",
   "execution_count": 15,
   "metadata": {
    "collapsed": false
   },
   "outputs": [
    {
     "data": {
      "text/plain": [
       "[(u'Bellingham', u'WA'),\n",
       " (u'Moses Lake', u'WA'),\n",
       " (u'Pasco', u'WA'),\n",
       " (u'Pullman', u'WA'),\n",
       " (u'Seattle', u'WA')]"
      ]
     },
     "execution_count": 15,
     "metadata": {},
     "output_type": "execute_result"
    }
   ],
   "source": [
    "# Filter Rows that have state == \"WA\"\n",
    "rdd_airports.map(lambda line: (line[0],line[1])).filter(lambda c : c[1] == \"WA\").take(5)"
   ]
  },
  {
   "cell_type": "code",
   "execution_count": 18,
   "metadata": {
    "collapsed": false
   },
   "outputs": [
    {
     "data": {
      "text/plain": [
       "[u'Bellingham', u'WA', u'Moses Lake', u'WA']"
      ]
     },
     "execution_count": 18,
     "metadata": {},
     "output_type": "execute_result"
    }
   ],
   "source": [
    "# Filter only second column == \"WA\", \n",
    "# select first two columns within the RDD,\n",
    "# and flatten out all values\n",
    "rdd_airports.map(lambda c : (c[0],c[1])).filter(lambda c : c[1] == \"WA\") .flatMap(lambda x: x).take(4)"
   ]
  },
  {
   "cell_type": "code",
   "execution_count": 24,
   "metadata": {
    "collapsed": false
   },
   "outputs": [
    {
     "data": {
      "text/plain": [
       "[u'Canada', u'USA', u'Country']"
      ]
     },
     "execution_count": 24,
     "metadata": {},
     "output_type": "execute_result"
    }
   ],
   "source": [
    "# Provide the distinct elements for the \n",
    "# third column of airports representing\n",
    "# countries\n",
    "rdd_airports.map(lambda c : c[2]).distinct().take(5)"
   ]
  },
  {
   "cell_type": "code",
   "execution_count": 25,
   "metadata": {
    "collapsed": false
   },
   "outputs": [
    {
     "data": {
      "text/plain": [
       "[[u'City', u'State', u'Country', u'IATA'],\n",
       " [u'Abbotsford', u'BC', u'Canada', u'YXX'],\n",
       " [u'Aberdeen', u'SD', u'USA', u'ABR'],\n",
       " [u'Abilene', u'TX', u'USA', u'ABI'],\n",
       " [u'Akron', u'OH', u'USA', u'CAK']]"
      ]
     },
     "execution_count": 25,
     "metadata": {},
     "output_type": "execute_result"
    }
   ],
   "source": [
    "rdd_airports.take(5)"
   ]
  },
  {
   "cell_type": "code",
   "execution_count": 26,
   "metadata": {
    "collapsed": false
   },
   "outputs": [
    {
     "data": {
      "text/plain": [
       "[[u'date', u'delay', u'distance', u'origin', u'destination'],\n",
       " [u'01011245', u'6', u'602', u'ABE', u'ATL'],\n",
       " [u'01020600', u'-8', u'369', u'ABE', u'DTW'],\n",
       " [u'01021245', u'-2', u'602', u'ABE', u'ATL'],\n",
       " [u'01020605', u'-4', u'602', u'ABE', u'ATL']]"
      ]
     },
     "execution_count": 26,
     "metadata": {},
     "output_type": "execute_result"
    }
   ],
   "source": [
    "rdd_depart.take(5)"
   ]
  },
  {
   "cell_type": "code",
   "execution_count": 28,
   "metadata": {
    "collapsed": false
   },
   "outputs": [
    {
     "data": {
      "text/plain": [
       "[(u'origin', u'date'),\n",
       " (u'ABE', u'01011245'),\n",
       " (u'ABE', u'01020600'),\n",
       " (u'ABE', u'01021245'),\n",
       " (u'ABE', u'01020605')]"
      ]
     },
     "execution_count": 28,
     "metadata": {},
     "output_type": "execute_result"
    }
   ],
   "source": [
    "#flights data selecting origin and data \n",
    "\n",
    "flt = rdd_depart.map(lambda c : (c[3],c[0]))\n",
    "flt.take(5)"
   ]
  },
  {
   "cell_type": "code",
   "execution_count": 30,
   "metadata": {
    "collapsed": false
   },
   "outputs": [
    {
     "data": {
      "text/plain": [
       "[(u'IATA', u'State'),\n",
       " (u'YXX', u'BC'),\n",
       " (u'ABR', u'SD'),\n",
       " (u'ABI', u'TX'),\n",
       " (u'CAK', u'OH')]"
      ]
     },
     "execution_count": 30,
     "metadata": {},
     "output_type": "execute_result"
    }
   ],
   "source": [
    "#airports selecting columns for location and state\n",
    "airport = rdd_airports.map(lambda c : (c[3],c[1]))\n",
    "airport.take(5)"
   ]
  },
  {
   "cell_type": "code",
   "execution_count": 32,
   "metadata": {
    "collapsed": false
   },
   "outputs": [
    {
     "data": {
      "text/plain": [
       "[u'JFK',\n",
       " u'GUC',\n",
       " u'CIC',\n",
       " u'FSD',\n",
       " u'DBQ',\n",
       " u'MIA',\n",
       " u'AVP',\n",
       " u'LIH',\n",
       " u'MEM',\n",
       " u'EKO']"
      ]
     },
     "execution_count": 32,
     "metadata": {},
     "output_type": "execute_result"
    }
   ],
   "source": [
    "# filter all the distinct rows for the state after the join condition\n",
    "flt.join(airport).map(lambda c : c[0]).distinct().take(10)"
   ]
  },
  {
   "cell_type": "code",
   "execution_count": 33,
   "metadata": {
    "collapsed": false
   },
   "outputs": [
    {
     "data": {
      "text/plain": [
       "[((u'City', u'State'), 0),\n",
       " ((u'Abbotsford', u'BC'), 1),\n",
       " ((u'Aberdeen', u'SD'), 2),\n",
       " ((u'Abilene', u'TX'), 3),\n",
       " ((u'Akron', u'OH'), 4)]"
      ]
     },
     "execution_count": 33,
     "metadata": {},
     "output_type": "execute_result"
    }
   ],
   "source": [
    "# View each row within RDD + the index \n",
    "# i.e. output is in form ([row], idx)\n",
    "rdd_airports.map(lambda c : (c[0],c[1])).zipWithIndex().take(5)"
   ]
  },
  {
   "cell_type": "code",
   "execution_count": 34,
   "metadata": {
    "collapsed": false
   },
   "outputs": [
    {
     "data": {
      "text/plain": [
       "[((u'Abbotsford', u'BC'), 1),\n",
       " ((u'Aberdeen', u'SD'), 2),\n",
       " ((u'Abilene', u'TX'), 3),\n",
       " ((u'Akron', u'OH'), 4),\n",
       " ((u'Alamosa', u'CO'), 5)]"
      ]
     },
     "execution_count": 34,
     "metadata": {},
     "output_type": "execute_result"
    }
   ],
   "source": [
    "rdd_airports.map(lambda c : (c[0],c[1])).zipWithIndex().filter(lambda(row,idx): idx > 0).take(5)"
   ]
  },
  {
   "cell_type": "code",
   "execution_count": 36,
   "metadata": {
    "collapsed": false
   },
   "outputs": [
    {
     "data": {
      "text/plain": [
       "[((u'Abbotsford', u'BC'), 1),\n",
       " ((u'Aberdeen', u'SD'), 2),\n",
       " ((u'Abilene', u'TX'), 3),\n",
       " ((u'Akron', u'OH'), 4),\n",
       " ((u'Alamosa', u'CO'), 5)]"
      ]
     },
     "execution_count": 36,
     "metadata": {},
     "output_type": "execute_result"
    }
   ],
   "source": [
    "(\n",
    "    rdd_airports\n",
    ".map(lambda c : (c[0],c[1]))\n",
    ".zipWithIndex()\n",
    ".filter(lambda(row,idx): idx > 0)\n",
    ".take(5)\n",
    ")"
   ]
  },
  {
   "cell_type": "code",
   "execution_count": 37,
   "metadata": {
    "collapsed": false
   },
   "outputs": [
    {
     "data": {
      "text/plain": [
       "[(u'Abbotsford', u'BC'),\n",
       " (u'Aberdeen', u'SD'),\n",
       " (u'Abilene', u'TX'),\n",
       " (u'Akron', u'OH'),\n",
       " (u'Alamosa', u'CO')]"
      ]
     },
     "execution_count": 37,
     "metadata": {},
     "output_type": "execute_result"
    }
   ],
   "source": [
    "(\n",
    "    rdd_airports\n",
    ".map(lambda c : (c[0],c[1]))\n",
    ".zipWithIndex()\n",
    ".filter(lambda(row,idx): idx > 0)\n",
    ".map(lambda(row,idx): row)\n",
    ".take(5)\n",
    ")"
   ]
  },
  {
   "cell_type": "code",
   "execution_count": 41,
   "metadata": {
    "collapsed": false
   },
   "outputs": [],
   "source": [
    "v = sc.parallelize([('a',1),('a',2),('a',3),('b',1),('b',2),('b',3)])"
   ]
  },
  {
   "cell_type": "code",
   "execution_count": 48,
   "metadata": {
    "collapsed": false
   },
   "outputs": [
    {
     "data": {
      "text/plain": [
       "[('a', 6), ('b', 6)]"
      ]
     },
     "execution_count": 48,
     "metadata": {},
     "output_type": "execute_result"
    }
   ],
   "source": [
    "v.reduceByKey(lambda x,y: x+y).take(5)\n",
    " "
   ]
  },
  {
   "cell_type": "code",
   "execution_count": 85,
   "metadata": {
    "collapsed": false
   },
   "outputs": [
    {
     "data": {
      "text/plain": [
       "[(u'JFK', 387929),\n",
       " (u'MIA', 169373),\n",
       " (u'LIH', -646),\n",
       " (u'LIT', 34489),\n",
       " (u'RDM', 3445)]"
      ]
     },
     "execution_count": 85,
     "metadata": {},
     "output_type": "execute_result"
    }
   ],
   "source": [
    " ( \n",
    "        rdd_depart.map(lambda c : (c[3],c[1])\n",
    "                      )\n",
    "        .zipWithIndex()\n",
    "       .filter(lambda (row,idx): idx > 0 #and row[1] == u\"delay\"\n",
    "              )\n",
    "       .map(lambda(row,idx): row)\n",
    "        #.map(la)\n",
    "       .reduceByKey(lambda x,y : int(x)+int(y))\n",
    "        .take(5)\n",
    ")"
   ]
  },
  {
   "cell_type": "code",
   "execution_count": 71,
   "metadata": {
    "collapsed": false
   },
   "outputs": [
    {
     "data": {
      "text/plain": [
       "[u'delay']"
      ]
     },
     "execution_count": 71,
     "metadata": {},
     "output_type": "execute_result"
    }
   ],
   "source": [
    "( rdd_depart.map(lambda c : ( c[1]) )\n",
    "        .filter(lambda c : c == \"delay\")\n",
    "    .distinct().collect()\n",
    " )"
   ]
  },
  {
   "cell_type": "code",
   "execution_count": null,
   "metadata": {
    "collapsed": true
   },
   "outputs": [],
   "source": []
  }
 ],
 "metadata": {
  "kernelspec": {
   "display_name": "Python 2",
   "language": "python",
   "name": "python2"
  },
  "language_info": {
   "codemirror_mode": {
    "name": "ipython",
    "version": 2
   },
   "file_extension": ".py",
   "mimetype": "text/x-python",
   "name": "python",
   "nbconvert_exporter": "python",
   "pygments_lexer": "ipython2",
   "version": "2.7.13"
  }
 },
 "nbformat": 4,
 "nbformat_minor": 0
}
